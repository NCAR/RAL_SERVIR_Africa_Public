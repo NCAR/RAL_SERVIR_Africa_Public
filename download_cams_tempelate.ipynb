{
 "cells": [
  {
   "cell_type": "code",
   "execution_count": 11,
   "id": "79b7efd5-d8b5-4268-a079-ea6c4f096837",
   "metadata": {},
   "outputs": [
    {
     "name": "stderr",
     "output_type": "stream",
     "text": [
      "2024-01-29 11:59:58,729 INFO Welcome to the CDS\n",
      "2024-01-29 11:59:58,731 INFO Sending request to https://ads.atmosphere.copernicus.eu/api/v2/resources/cams-global-reanalysis-eac4\n"
     ]
    },
    {
     "name": "stdout",
     "output_type": "stream",
     "text": [
      "\n",
      " type = ps, date = 2005-01-01/2005-02-01, filename = CAMS_ps_20050101_20050201.nc \n",
      "\n"
     ]
    },
    {
     "name": "stderr",
     "output_type": "stream",
     "text": [
      "2024-01-29 11:59:58,911 INFO Request is queued\n",
      "2024-01-29 12:00:00,085 INFO Request is running\n",
      "2024-01-29 12:00:32,347 INFO Request is completed\n",
      "2024-01-29 12:00:32,360 INFO Downloading https://download-0000-ads-clone.copernicus-climate.eu/cache-compute-0000/cache/data9/adaptor.mars.internal-1706554822.8483846-24305-1-be7a4ab1-ed89-497e-9d3d-536616fc170a.nc to CAMS_ps_20050101_20050201.nc (42.4M)\n",
      "2024-01-29 12:00:39,299 INFO Download rate 6.1M/s                                                                         \n"
     ]
    }
   ],
   "source": [
    "import cdsapi\n",
    "import numpy as np\n",
    "import os\n",
    "\n",
    "c = cdsapi.Client(url='https://ads.atmosphere.copernicus.eu/api/v2',\n",
    "                  key='username:user own key number after registration in ECMWF API website above',\n",
    "                  timeout=600, quiet=False)\n",
    "\n",
    "datesdec = [f'{y}-01-01/{y}-02-01' for y in np.arange(2005, 2006)]\n",
    "\n",
    "\n",
    "variables = dict(\n",
    "    aer =  ['dust_aerosol_0.03-0.55um_mixing_ratio', 'dust_aerosol_0.55-0.9um_mixing_ratio', 'dust_aerosol_0.9-20um_mixing_ratio',\n",
    "            'hydrophilic_black_carbon_aerosol_mixing_ratio', 'hydrophilic_organic_matter_aerosol_mixing_ratio', 'hydrophobic_black_carbon_aerosol_mixing_ratio',\n",
    "            'hydrophobic_organic_matter_aerosol_mixing_ratio', 'sea_salt_aerosol_0.03-0.5um_mixing_ratio', 'sea_salt_aerosol_0.5-5um_mixing_ratio',\n",
    "            'sea_salt_aerosol_5-20um_mixing_ratio', 'specific_humidity', 'sulphate_aerosol_mixing_ratio'],\n",
    "    gas = ['carbon_monoxide', 'ethane', 'formaldehyde',\n",
    "            'hydrogen_peroxide', 'hydroxyl_radical', 'isoprene',\n",
    "            'nitric_acid', \n",
    "            'nitrogen_dioxide', 'nitrogen_monoxide',\n",
    "            'ozone', 'peroxyacetyl_nitrate', 'propane',\n",
    "            'sulphur_dioxide'],\n",
    "    ps = ['surface pressure','temperature'])\n",
    "\n",
    "\n",
    "\n",
    "def filenames(parentstring, date):\n",
    "    dd = date.replace('-', '').split('/')\n",
    "    return f'{parentstring}_{dd[0]}_{dd[1]}'\n",
    "\n",
    "\n",
    "\n",
    "\n",
    "for vartype in variables.keys():\n",
    "    parentstring = f'CAMS_{vartype}'\n",
    "    for i, d in enumerate(datesdec):\n",
    "        print(f'\\n type = {vartype}, date = {d}, filename = {filenames(parentstring, d)}.nc \\n')\n",
    "        c.retrieve(\n",
    "            'cams-global-reanalysis-eac4',\n",
    "            {\n",
    "                'date': d,\n",
    "                'format': 'netcdf',\n",
    "                'variable': variables[vartype],\n",
    "                #'area': [\n",
    "                #    50, 65, 25,\n",
    "                #    105,\n",
    "                #],\n",
    "                'model_level': [\n",
    "                    #'1',\n",
    "                    # '2', '3',\n",
    "                    # '4', '5', '6',\n",
    "                    # '7', '8', '9',\n",
    "                    # '10', '11', '12',\n",
    "                    # '13', '14', '15',\n",
    "                    # '16', '17', '18',\n",
    "                    # '19', '20', '21',\n",
    "                    # '22', '23', '24',\n",
    "                    # '25', '26', '27',\n",
    "                    # '28', '29', '30',\n",
    "                    # '31', '32', '33',\n",
    "                    # '34', '35', '36',\n",
    "                    # '37', '38', '39',\n",
    "                    # '40', '41', '42',\n",
    "                    # '43', '44', '45',\n",
    "                    # '46', '47', '48',\n",
    "                    # '49', '50', '51',\n",
    "                    # '52', '53', '54',\n",
    "                    # '55', '56', '57',\n",
    "                    # '58', '59', \n",
    "                    '60',\n",
    "                ],\n",
    "                'time': [\n",
    "                    '00:00',  '12:00',\n",
    "                    \n",
    "                ],\n",
    "            },\n",
    "\n",
    "            f'{filenames(parentstring, d)}.nc')\n",
    "\n",
    "        if not os.path.isfile( f'{filenames(parentstring, d)}.nc'):\n",
    "            print(f'File Not Downloaded = {filenames(parentstring, d)}.nc')\n"
   ]
  }
 ],
 "metadata": {
  "kernelspec": {
   "display_name": "Python 3 (ipykernel)",
   "language": "python",
   "name": "python3"
  },
  "language_info": {
   "codemirror_mode": {
    "name": "ipython",
    "version": 3
   },
   "file_extension": ".py",
   "mimetype": "text/x-python",
   "name": "python",
   "nbconvert_exporter": "python",
   "pygments_lexer": "ipython3",
   "version": "3.10.13"
  }
 },
 "nbformat": 4,
 "nbformat_minor": 5
}
